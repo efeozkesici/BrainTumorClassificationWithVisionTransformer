{
 "cells": [
  {
   "cell_type": "code",
   "execution_count": null,
   "id": "c1285d7e-fcd9-49d1-b486-7485150c53a9",
   "metadata": {},
   "outputs": [],
   "source": [
    "import tensorflow as tf\n",
    "from vit import ViTClassfier\n",
    "from utils import plot_grid_ds, AttrDict, BalancedSparseCategoricalAccuracy"
   ]
  },
  {
   "cell_type": "markdown",
   "id": "fd2113eb-4cdf-406b-9db0-bc4dc2ecf624",
   "metadata": {},
   "source": [
    "### 1. Exploratory Data Analysis"
   ]
  },
  {
   "cell_type": "code",
   "execution_count": null,
   "id": "5c5fd12c-c679-4c2b-97f1-d5955ebb3707",
   "metadata": {},
   "outputs": [],
   "source": [
    "from pathlib import Path\n",
    "import numpy as np\n",
    "import pandas as pd\n",
    "import matplotlib.pyplot as plt\n",
    "import os\n",
    "\n",
    "\n",
    "path = Path(\"dataset\")\n",
    "img_as_jpg = list(path.glob(r\"*/*.jpg\"))\n",
    "\n",
    "# Counts the number of each categories in the dataset\n",
    "file_count = list(map(lambda x: os.path.split(os.path.split(x)[0])[1],img_as_jpg))\n",
    "glioma = file_count.count('glioma_tumor')\n",
    "meningioma = file_count.count('meningioma_tumor')\n",
    "no_tum = file_count.count('no_tumor')\n",
    "pituitary = file_count.count('pituitary_tumor')"
   ]
  },
  {
   "cell_type": "code",
   "execution_count": null,
   "id": "d1f78b33-0ac1-4cb1-83ed-35803af1933a",
   "metadata": {},
   "outputs": [],
   "source": [
    "fig = plt.figure()\n",
    "ax = fig.add_axes([0,0,1,1])\n",
    "labels = ['Glioma','Meningioma', 'Pituitary', 'No tumor']\n",
    "count_train = [glioma, meningioma, pituitary, no_tum]\n",
    "ax.bar(labels, count_train)\n",
    "plt.show()"
   ]
  },
  {
   "cell_type": "code",
   "execution_count": null,
   "id": "01050044-13ca-4adc-9045-e506c392aab4",
   "metadata": {},
   "outputs": [],
   "source": [
    "train = pd.concat([pd.Series(img_as_jpg,name=\"image\").apply(str),pd.Series(file_count, name=\"type\")],axis=1)\n",
    "train = train.sample(frac=1).reset_index(drop=True)\n",
    "print(np.shape(train))"
   ]
  },
  {
   "cell_type": "code",
   "execution_count": null,
   "id": "0a02e643-2dfb-4f79-95b6-ee6e37cff460",
   "metadata": {},
   "outputs": [],
   "source": [
    "fig, axes = plt.subplots(4, 4, figsize=(8, 8))\n",
    "fig.tight_layout()\n",
    "counter = 0\n",
    "for ax in axes.reshape(-1): \n",
    "    ax.imshow(plt.imread(train[\"image\"][counter]))\n",
    "    ax.set_title(train[\"type\"][counter])\n",
    "    plt.rcParams[\"axes.grid\"] = False\n",
    "    counter = counter+1"
   ]
  },
  {
   "cell_type": "markdown",
   "id": "dee4fadd-e802-46a5-8892-f663e4b6df10",
   "metadata": {},
   "source": [
    "## 2. Model"
   ]
  },
  {
   "cell_type": "code",
   "execution_count": null,
   "id": "e2b6ba79-b907-4db0-b4cd-7fa5be809251",
   "metadata": {},
   "outputs": [],
   "source": [
    "hparams = AttrDict(\n",
    "    image_size=(128, 128, 3),\n",
    "    n_classes=4,\n",
    "    batch_size=64,\n",
    ")\n",
    "\n",
    "ds = tf.keras.preprocessing.image_dataset_from_directory(\"dataset\", image_size=hparams.image_size[:-1], batch_size=hparams.batch_size)\n",
    "train_split = round(0.8 * ds.cardinality().numpy()) \n",
    "train_ds = ds.take(train_split); train_ds.class_names = ds.class_names\n",
    "validation_ds = ds.skip(train_split); validation_ds.class_names = ds.class_names"
   ]
  },
  {
   "cell_type": "code",
   "execution_count": null,
   "id": "ed47f089-d13f-42f6-88be-e25f640b85d0",
   "metadata": {},
   "outputs": [],
   "source": [
    "_ = plot_grid_ds(train_ds)"
   ]
  },
  {
   "cell_type": "code",
   "execution_count": null,
   "id": "b6a7cf73-f4fd-4af6-a453-ac1e8835ffff",
   "metadata": {},
   "outputs": [],
   "source": [
    "strategy = tf.distribute.MirroredStrategy()\n",
    "\n",
    "with strategy.scope():\n",
    "    model = ViTClassfier(hparams.image_size, hparams.n_classes)\n",
    "    \n",
    "    model.compile(\n",
    "        optimizer=tf.keras.optimizers.Adam(),\n",
    "        loss=tf.keras.losses.SparseCategoricalCrossentropy(from_logits=True),\n",
    "        metrics=[\"accuracy\", BalancedSparseCategoricalAccuracy()]\n",
    "    )"
   ]
  },
  {
   "cell_type": "code",
   "execution_count": null,
   "id": "56289821-33e6-477b-af5d-2c00b961c05f",
   "metadata": {},
   "outputs": [],
   "source": [
    "model.fit(train_ds, epochs=20, validation_data=validation_ds)"
   ]
  },
  {
   "cell_type": "markdown",
   "id": "803a88a5-7835-469a-9cc4-244b80ef22df",
   "metadata": {},
   "source": [
    "## 3. Results"
   ]
  },
  {
   "cell_type": "code",
   "execution_count": null,
   "id": "bd496a0b-1194-4268-b5af-97acc14757bf",
   "metadata": {},
   "outputs": [],
   "source": [
    "_ = plot_grid_ds(validation_ds, size=(4, 4), model=model, figsize= (20,20))"
   ]
  },
  {
   "cell_type": "code",
   "execution_count": null,
   "id": "62406ceb-f353-4729-ad03-789aa0a1da4a",
   "metadata": {},
   "outputs": [],
   "source": [
    "import numpy as np\n",
    "import seaborn as sns\n",
    "from sklearn.metrics import confusion_matrix, classification_report\n",
    "\n",
    "X, y_true = list(zip(*[(X, y) for (X, y) in validation_ds.unbatch().as_numpy_iterator()]))\n",
    "y_hat = model.predict_on_batch(np.array(X)).argmax(axis=-1)\n",
    "mat = confusion_matrix(y_true, y_hat)\n",
    "plt.figure(figsize = (16, 16))\n",
    "sns.heatmap(mat, cmap = 'Blues', annot = True, cbar = True)\n",
    "print(classification_report(y_true, y_hat))\n",
    "\n",
    "# mat"
   ]
  },
  {
   "cell_type": "code",
   "execution_count": null,
   "id": "c54c8fac-ebb4-4eda-92e4-bc69b08f8048",
   "metadata": {},
   "outputs": [],
   "source": [
    "from sklearn.metrics import balanced_accuracy_score\n",
    "\n",
    "acc = balanced_accuracy_score(y_true, y_hat)\n",
    "print(f\"Final accuracy on validation set : {acc:.3f}\")"
   ]
  }
 ],
 "metadata": {
  "kernelspec": {
   "display_name": "Python 3",
   "language": "python",
   "name": "python3"
  },
  "language_info": {
   "codemirror_mode": {
    "name": "ipython",
    "version": 3
   },
   "file_extension": ".py",
   "mimetype": "text/x-python",
   "name": "python",
   "nbconvert_exporter": "python",
   "pygments_lexer": "ipython3",
   "version": "3.8.5"
  }
 },
 "nbformat": 4,
 "nbformat_minor": 5
}
